{
  "nbformat": 4,
  "nbformat_minor": 0,
  "metadata": {
    "colab": {
      "provenance": [],
      "authorship_tag": "ABX9TyN+xfR3X8r0y/hunGSxobvl",
      "include_colab_link": true
    },
    "kernelspec": {
      "name": "python3",
      "display_name": "Python 3"
    },
    "language_info": {
      "name": "python"
    }
  },
  "cells": [
    {
      "cell_type": "markdown",
      "metadata": {
        "id": "view-in-github",
        "colab_type": "text"
      },
      "source": [
        "<a href=\"https://colab.research.google.com/github/ram143moh/DV-TASKS-VTU23124-/blob/main/TASK9.ipynb\" target=\"_parent\"><img src=\"https://colab.research.google.com/assets/colab-badge.svg\" alt=\"Open In Colab\"/></a>"
      ]
    },
    {
      "cell_type": "code",
      "execution_count": null,
      "metadata": {
        "id": "61mtNyjMAvAn"
      },
      "outputs": [],
      "source": [
        "import kagglehub\n",
        "\n",
        "# Download latest version\n",
        "path = kagglehub.dataset_download(\"shreyanshverma27/online-sales-dataset-popular-marketplace-data\")\n",
        "\n",
        "print(\"Path to dataset files:\", path)"
      ]
    },
    {
      "cell_type": "code",
      "source": [
        "# Import libraries\n",
        "import pandas as pd\n",
        "import matplotlib.pyplot as plt\n",
        "import seaborn as sns\n",
        "from pandas.plotting import lag_plot, autocorrelation_plot\n",
        "\n",
        "# Load data\n",
        "sales_data = pd.read_csv(\"/root/.cache/kagglehub/datasets/shreyanshverma27/online-sales-dataset-popular-marketplace-data/versions/1/Online Sales Data.csv\")\n",
        "sales_data[\"Date\"] = pd.to_datetime(sales_data[\"Date\"])\n",
        "sales_data[\"year\"] = sales_data[\"Date\"].dt.year\n",
        "sales_data[\"month\"] = sales_data[\"Date\"].dt.month\n",
        "sales_data.set_index(\"Date\", inplace=True)\n",
        "\n",
        "# 1. Line Plot\n",
        "plt.plot(sales_data.index, sales_data[\"Total Revenue\"])\n",
        "plt.title(\"Sales Trend Over Time\")\n",
        "plt.xlabel(\"Date\")\n",
        "plt.ylabel(\"Sales (USD)\")\n",
        "plt.show()\n",
        "\n",
        "# 2. Box Plot\n",
        "sns.boxplot(data=sales_data, x=\"year\", y=\"Total Revenue\")\n",
        "plt.title(\"Yearly Sales Distribution\")\n",
        "plt.show()\n",
        "\n",
        "# 3. Heatmap\n",
        "sales = sales_data.groupby([\"year\", \"month\"]).sum().reset_index()\n",
        "sales_month_year = sales.pivot(index=\"year\", columns=\"month\", values=\"Total Revenue\")\n",
        "sns.heatmap(sales_month_year, cmap=\"viridis\", cbar_kws={\"label\": \"Total Sales\"})\n",
        "plt.title(\"Sales Heatmap (Year vs Month)\")\n",
        "plt.show()\n",
        "\n",
        "# 4. Lag Plot\n",
        "lag_plot(sales_data[\"Total Revenue\"])\n",
        "plt.title(\"Lag Plot of Sales\")\n",
        "plt.show()\n",
        "\n",
        "# 5. Autocorrelation Plot\n",
        "autocorrelation_plot(sales_data[\"Total Revenue\"])\n",
        "plt.title(\"Autocorrelation of Sales\")\n",
        "plt.show()"
      ],
      "metadata": {
        "id": "KoJ4EoDFAzz6"
      },
      "execution_count": null,
      "outputs": []
    }
  ]
}