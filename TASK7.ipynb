{
  "nbformat": 4,
  "nbformat_minor": 0,
  "metadata": {
    "colab": {
      "provenance": [],
      "authorship_tag": "ABX9TyN1FPttzLEzfCAjecH1MR/4",
      "include_colab_link": true
    },
    "kernelspec": {
      "name": "python3",
      "display_name": "Python 3"
    },
    "language_info": {
      "name": "python"
    }
  },
  "cells": [
    {
      "cell_type": "markdown",
      "metadata": {
        "id": "view-in-github",
        "colab_type": "text"
      },
      "source": [
        "<a href=\"https://colab.research.google.com/github/ram143moh/DV-TASKS-VTU23124-/blob/main/TASK7.ipynb\" target=\"_parent\"><img src=\"https://colab.research.google.com/assets/colab-badge.svg\" alt=\"Open In Colab\"/></a>"
      ]
    },
    {
      "cell_type": "code",
      "execution_count": null,
      "metadata": {
        "id": "lzvQb-gB_ubv"
      },
      "outputs": [],
      "source": [
        "# Install necessary libraries\n",
        "!pip install wordcloud nltk\n",
        "\n",
        "import pandas as pd\n",
        "from wordcloud import WordCloud\n",
        "import matplotlib.pyplot as plt\n",
        "import nltk\n",
        "from nltk.corpus import stopwords\n",
        "nltk.download('punkt')\n",
        "nltk.download('stopwords')\n",
        "nltk.download('punkt_tab') # Download the missing resource\n",
        "\n",
        "# Sample dataset (you can edit abstracts if needed)\n",
        "data = {\n",
        "    'abstract': [\n",
        "        \"This research explores the application of deep learning for image recognition.\",\n",
        "        \"The paper reviews recent advances in natural language processing with neural networks.\",\n",
        "        \"A new method for data clustering is presented and evaluated on several benchmark datasets.\",\n",
        "        \"Machine learning techniques have significantly improved speech recognition systems.\",\n",
        "        \"This work proposes a hybrid approach to recommender systems integrating user feedback.\",\n",
        "        \"Big data analytics are transforming healthcare and personalized medicine.\",\n",
        "        \"The study compares unsupervised and supervised learning approaches for text classification.\",\n",
        "        \"Cloud computing security remains a challenge in distributed environments.\"\n",
        "    ]\n",
        "}\n",
        "df = pd.DataFrame(data)\n",
        "\n",
        "# Combine all text\n",
        "text = ' '.join(df['abstract'].dropna().astype(str))\n",
        "\n",
        "# Preprocessing - remove stopwords\n",
        "stop_words = set(stopwords.words('english'))\n",
        "tokens = nltk.word_tokenize(text.lower())\n",
        "filtered_tokens = [word for word in tokens if word.isalpha() and word not in stop_words]\n",
        "filtered_text = ' '.join(filtered_tokens)\n",
        "\n",
        "# Generate and show word cloud\n",
        "wordcloud = WordCloud(width=800, height=400, background_color='white').generate(filtered_text)\n",
        "plt.figure(figsize=(14,7))\n",
        "plt.imshow(wordcloud, interpolation='bilinear')\n",
        "plt.axis('off')\n",
        "plt.title('Word Cloud of Abstracts/Text Network Insights')\n",
        "plt.show()\n"
      ]
    }
  ]
}