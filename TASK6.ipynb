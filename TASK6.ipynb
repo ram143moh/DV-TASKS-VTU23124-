{
  "nbformat": 4,
  "nbformat_minor": 0,
  "metadata": {
    "colab": {
      "provenance": [],
      "authorship_tag": "ABX9TyM6GKfvxjmDUyfFuywKhx04",
      "include_colab_link": true
    },
    "kernelspec": {
      "name": "python3",
      "display_name": "Python 3"
    },
    "language_info": {
      "name": "python"
    }
  },
  "cells": [
    {
      "cell_type": "markdown",
      "metadata": {
        "id": "view-in-github",
        "colab_type": "text"
      },
      "source": [
        "<a href=\"https://colab.research.google.com/github/ram143moh/DV-TASKS-VTU23124-/blob/main/TASK6.ipynb\" target=\"_parent\"><img src=\"https://colab.research.google.com/assets/colab-badge.svg\" alt=\"Open In Colab\"/></a>"
      ]
    },
    {
      "cell_type": "code",
      "execution_count": null,
      "metadata": {
        "id": "Q8n6ui_l_R8S"
      },
      "outputs": [],
      "source": [
        "# Install necessary libraries in Colab\n",
        "!pip install networkx matplotlib\n",
        "\n",
        "import networkx as nx\n",
        "import matplotlib.pyplot as plt\n",
        "\n",
        "# Example: Create a sample graph (replace this with your dataset loading logic)\n",
        "G = nx.Graph()\n",
        "G.add_edges_from([\n",
        "    ('A', 'B'), ('A', 'C'), ('B', 'D'), ('C', 'D'), ('D', 'E')\n",
        "])\n",
        "\n",
        "# Apply spring-force layout and visualize\n",
        "pos = nx.spring_layout(G, k=0.5, iterations=50, seed=42)\n",
        "plt.figure(figsize=(10, 8))\n",
        "nx.draw_networkx(G, pos, with_labels=True, node_color='skyblue', edge_color='gray', node_size=800)\n",
        "plt.title('Sample Force-based Graph Layout Visualization')\n",
        "plt.axis('off')\n",
        "plt.show()\n"
      ]
    }
  ]
}